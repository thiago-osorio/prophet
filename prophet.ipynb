{
 "cells": [
  {
   "cell_type": "markdown",
   "metadata": {},
   "source": [
    "# Importando Bibliotecas"
   ]
  },
  {
   "cell_type": "code",
   "execution_count": 65,
   "metadata": {},
   "outputs": [],
   "source": [
    "import pandas as pd\n",
    "import matplotlib.pyplot as plt\n",
    "import skopt\n",
    "from prophet import Prophet\n",
    "from sklearn import metrics\n",
    "from sklearn.model_selection import ParameterGrid"
   ]
  },
  {
   "cell_type": "markdown",
   "metadata": {},
   "source": [
    "# Lendo os Dados"
   ]
  },
  {
   "cell_type": "code",
   "execution_count": 2,
   "metadata": {},
   "outputs": [],
   "source": [
    "df = pd.read_csv('dados_tcc.csv', sep=';')\n",
    "df['ds'] = df['ds'].str.replace('/', '-')\n",
    "df['ds'] = pd.to_datetime(df['ds'], format='%d-%m-%Y')"
   ]
  },
  {
   "cell_type": "code",
   "execution_count": 33,
   "metadata": {},
   "outputs": [
    {
     "data": {
      "text/html": [
       "<div>\n",
       "<style scoped>\n",
       "    .dataframe tbody tr th:only-of-type {\n",
       "        vertical-align: middle;\n",
       "    }\n",
       "\n",
       "    .dataframe tbody tr th {\n",
       "        vertical-align: top;\n",
       "    }\n",
       "\n",
       "    .dataframe thead th {\n",
       "        text-align: right;\n",
       "    }\n",
       "</style>\n",
       "<table border=\"1\" class=\"dataframe\">\n",
       "  <thead>\n",
       "    <tr style=\"text-align: right;\">\n",
       "      <th></th>\n",
       "      <th>ds</th>\n",
       "      <th>y</th>\n",
       "    </tr>\n",
       "  </thead>\n",
       "  <tbody>\n",
       "    <tr>\n",
       "      <th>0</th>\n",
       "      <td>2015-01-31</td>\n",
       "      <td>642</td>\n",
       "    </tr>\n",
       "    <tr>\n",
       "      <th>1</th>\n",
       "      <td>2015-02-28</td>\n",
       "      <td>590</td>\n",
       "    </tr>\n",
       "    <tr>\n",
       "      <th>2</th>\n",
       "      <td>2015-03-31</td>\n",
       "      <td>849</td>\n",
       "    </tr>\n",
       "    <tr>\n",
       "      <th>3</th>\n",
       "      <td>2015-04-30</td>\n",
       "      <td>1271</td>\n",
       "    </tr>\n",
       "    <tr>\n",
       "      <th>4</th>\n",
       "      <td>2015-05-31</td>\n",
       "      <td>1585</td>\n",
       "    </tr>\n",
       "    <tr>\n",
       "      <th>...</th>\n",
       "      <td>...</td>\n",
       "      <td>...</td>\n",
       "    </tr>\n",
       "    <tr>\n",
       "      <th>74</th>\n",
       "      <td>2021-03-31</td>\n",
       "      <td>26373</td>\n",
       "    </tr>\n",
       "    <tr>\n",
       "      <th>75</th>\n",
       "      <td>2021-04-30</td>\n",
       "      <td>28130</td>\n",
       "    </tr>\n",
       "    <tr>\n",
       "      <th>76</th>\n",
       "      <td>2021-05-31</td>\n",
       "      <td>29576</td>\n",
       "    </tr>\n",
       "    <tr>\n",
       "      <th>77</th>\n",
       "      <td>2021-06-30</td>\n",
       "      <td>30588</td>\n",
       "    </tr>\n",
       "    <tr>\n",
       "      <th>78</th>\n",
       "      <td>2021-07-31</td>\n",
       "      <td>31283</td>\n",
       "    </tr>\n",
       "  </tbody>\n",
       "</table>\n",
       "<p>79 rows × 2 columns</p>\n",
       "</div>"
      ],
      "text/plain": [
       "           ds      y\n",
       "0  2015-01-31    642\n",
       "1  2015-02-28    590\n",
       "2  2015-03-31    849\n",
       "3  2015-04-30   1271\n",
       "4  2015-05-31   1585\n",
       "..        ...    ...\n",
       "74 2021-03-31  26373\n",
       "75 2021-04-30  28130\n",
       "76 2021-05-31  29576\n",
       "77 2021-06-30  30588\n",
       "78 2021-07-31  31283\n",
       "\n",
       "[79 rows x 2 columns]"
      ]
     },
     "execution_count": 33,
     "metadata": {},
     "output_type": "execute_result"
    }
   ],
   "source": [
    "df"
   ]
  },
  {
   "cell_type": "markdown",
   "metadata": {},
   "source": [
    "# Prophet Simples"
   ]
  },
  {
   "cell_type": "code",
   "execution_count": 4,
   "metadata": {},
   "outputs": [],
   "source": [
    "model = Prophet()"
   ]
  },
  {
   "cell_type": "code",
   "execution_count": 5,
   "metadata": {},
   "outputs": [
    {
     "name": "stderr",
     "output_type": "stream",
     "text": [
      "12:08:42 - cmdstanpy - INFO - Chain [1] start processing\n",
      "12:08:44 - cmdstanpy - INFO - Chain [1] done processing\n"
     ]
    },
    {
     "data": {
      "text/plain": [
       "<prophet.forecaster.Prophet at 0x7fcb9176f100>"
      ]
     },
     "execution_count": 5,
     "metadata": {},
     "output_type": "execute_result"
    }
   ],
   "source": [
    "model.fit(df)"
   ]
  },
  {
   "cell_type": "code",
   "execution_count": 35,
   "metadata": {},
   "outputs": [
    {
     "data": {
      "text/html": [
       "<div>\n",
       "<style scoped>\n",
       "    .dataframe tbody tr th:only-of-type {\n",
       "        vertical-align: middle;\n",
       "    }\n",
       "\n",
       "    .dataframe tbody tr th {\n",
       "        vertical-align: top;\n",
       "    }\n",
       "\n",
       "    .dataframe thead th {\n",
       "        text-align: right;\n",
       "    }\n",
       "</style>\n",
       "<table border=\"1\" class=\"dataframe\">\n",
       "  <thead>\n",
       "    <tr style=\"text-align: right;\">\n",
       "      <th></th>\n",
       "      <th>ds</th>\n",
       "      <th>trend</th>\n",
       "      <th>yhat_lower</th>\n",
       "      <th>yhat_upper</th>\n",
       "      <th>trend_lower</th>\n",
       "      <th>trend_upper</th>\n",
       "      <th>additive_terms</th>\n",
       "      <th>additive_terms_lower</th>\n",
       "      <th>additive_terms_upper</th>\n",
       "      <th>yearly</th>\n",
       "      <th>yearly_lower</th>\n",
       "      <th>yearly_upper</th>\n",
       "      <th>multiplicative_terms</th>\n",
       "      <th>multiplicative_terms_lower</th>\n",
       "      <th>multiplicative_terms_upper</th>\n",
       "      <th>yhat</th>\n",
       "    </tr>\n",
       "  </thead>\n",
       "  <tbody>\n",
       "    <tr>\n",
       "      <th>0</th>\n",
       "      <td>2015-01-31</td>\n",
       "      <td>1122.224444</td>\n",
       "      <td>-1546.842064</td>\n",
       "      <td>1683.382361</td>\n",
       "      <td>1122.224444</td>\n",
       "      <td>1122.224444</td>\n",
       "      <td>-1104.454633</td>\n",
       "      <td>-1104.454633</td>\n",
       "      <td>-1104.454633</td>\n",
       "      <td>-1104.454633</td>\n",
       "      <td>-1104.454633</td>\n",
       "      <td>-1104.454633</td>\n",
       "      <td>0.0</td>\n",
       "      <td>0.0</td>\n",
       "      <td>0.0</td>\n",
       "      <td>17.769810</td>\n",
       "    </tr>\n",
       "    <tr>\n",
       "      <th>1</th>\n",
       "      <td>2015-02-28</td>\n",
       "      <td>1243.592149</td>\n",
       "      <td>-2599.697822</td>\n",
       "      <td>641.984267</td>\n",
       "      <td>1243.592149</td>\n",
       "      <td>1243.592149</td>\n",
       "      <td>-2255.376048</td>\n",
       "      <td>-2255.376048</td>\n",
       "      <td>-2255.376048</td>\n",
       "      <td>-2255.376048</td>\n",
       "      <td>-2255.376048</td>\n",
       "      <td>-2255.376048</td>\n",
       "      <td>0.0</td>\n",
       "      <td>0.0</td>\n",
       "      <td>0.0</td>\n",
       "      <td>-1011.783900</td>\n",
       "    </tr>\n",
       "    <tr>\n",
       "      <th>2</th>\n",
       "      <td>2015-03-31</td>\n",
       "      <td>1377.963536</td>\n",
       "      <td>-1824.841592</td>\n",
       "      <td>1458.471814</td>\n",
       "      <td>1377.963536</td>\n",
       "      <td>1377.963536</td>\n",
       "      <td>-1598.935162</td>\n",
       "      <td>-1598.935162</td>\n",
       "      <td>-1598.935162</td>\n",
       "      <td>-1598.935162</td>\n",
       "      <td>-1598.935162</td>\n",
       "      <td>-1598.935162</td>\n",
       "      <td>0.0</td>\n",
       "      <td>0.0</td>\n",
       "      <td>0.0</td>\n",
       "      <td>-220.971627</td>\n",
       "    </tr>\n",
       "    <tr>\n",
       "      <th>3</th>\n",
       "      <td>2015-04-30</td>\n",
       "      <td>1508.000362</td>\n",
       "      <td>-550.997081</td>\n",
       "      <td>2793.077045</td>\n",
       "      <td>1508.000362</td>\n",
       "      <td>1508.000362</td>\n",
       "      <td>-412.745633</td>\n",
       "      <td>-412.745633</td>\n",
       "      <td>-412.745633</td>\n",
       "      <td>-412.745633</td>\n",
       "      <td>-412.745633</td>\n",
       "      <td>-412.745633</td>\n",
       "      <td>0.0</td>\n",
       "      <td>0.0</td>\n",
       "      <td>0.0</td>\n",
       "      <td>1095.254729</td>\n",
       "    </tr>\n",
       "    <tr>\n",
       "      <th>4</th>\n",
       "      <td>2015-05-31</td>\n",
       "      <td>1642.371749</td>\n",
       "      <td>552.412497</td>\n",
       "      <td>3680.078339</td>\n",
       "      <td>1642.371749</td>\n",
       "      <td>1642.371749</td>\n",
       "      <td>440.673026</td>\n",
       "      <td>440.673026</td>\n",
       "      <td>440.673026</td>\n",
       "      <td>440.673026</td>\n",
       "      <td>440.673026</td>\n",
       "      <td>440.673026</td>\n",
       "      <td>0.0</td>\n",
       "      <td>0.0</td>\n",
       "      <td>0.0</td>\n",
       "      <td>2083.044776</td>\n",
       "    </tr>\n",
       "    <tr>\n",
       "      <th>...</th>\n",
       "      <td>...</td>\n",
       "      <td>...</td>\n",
       "      <td>...</td>\n",
       "      <td>...</td>\n",
       "      <td>...</td>\n",
       "      <td>...</td>\n",
       "      <td>...</td>\n",
       "      <td>...</td>\n",
       "      <td>...</td>\n",
       "      <td>...</td>\n",
       "      <td>...</td>\n",
       "      <td>...</td>\n",
       "      <td>...</td>\n",
       "      <td>...</td>\n",
       "      <td>...</td>\n",
       "      <td>...</td>\n",
       "    </tr>\n",
       "    <tr>\n",
       "      <th>74</th>\n",
       "      <td>2021-03-31</td>\n",
       "      <td>26404.326172</td>\n",
       "      <td>23628.808993</td>\n",
       "      <td>26993.598481</td>\n",
       "      <td>26404.326172</td>\n",
       "      <td>26404.326172</td>\n",
       "      <td>-1013.973689</td>\n",
       "      <td>-1013.973689</td>\n",
       "      <td>-1013.973689</td>\n",
       "      <td>-1013.973689</td>\n",
       "      <td>-1013.973689</td>\n",
       "      <td>-1013.973689</td>\n",
       "      <td>0.0</td>\n",
       "      <td>0.0</td>\n",
       "      <td>0.0</td>\n",
       "      <td>25390.352483</td>\n",
       "    </tr>\n",
       "    <tr>\n",
       "      <th>75</th>\n",
       "      <td>2021-04-30</td>\n",
       "      <td>26945.466047</td>\n",
       "      <td>24961.837859</td>\n",
       "      <td>28066.591759</td>\n",
       "      <td>26945.466047</td>\n",
       "      <td>26945.466047</td>\n",
       "      <td>-415.211964</td>\n",
       "      <td>-415.211964</td>\n",
       "      <td>-415.211964</td>\n",
       "      <td>-415.211964</td>\n",
       "      <td>-415.211964</td>\n",
       "      <td>-415.211964</td>\n",
       "      <td>0.0</td>\n",
       "      <td>0.0</td>\n",
       "      <td>0.0</td>\n",
       "      <td>26530.254083</td>\n",
       "    </tr>\n",
       "    <tr>\n",
       "      <th>76</th>\n",
       "      <td>2021-05-31</td>\n",
       "      <td>27504.643917</td>\n",
       "      <td>25776.320665</td>\n",
       "      <td>29074.284523</td>\n",
       "      <td>27504.643917</td>\n",
       "      <td>27504.643917</td>\n",
       "      <td>-60.867015</td>\n",
       "      <td>-60.867015</td>\n",
       "      <td>-60.867015</td>\n",
       "      <td>-60.867015</td>\n",
       "      <td>-60.867015</td>\n",
       "      <td>-60.867015</td>\n",
       "      <td>0.0</td>\n",
       "      <td>0.0</td>\n",
       "      <td>0.0</td>\n",
       "      <td>27443.776902</td>\n",
       "    </tr>\n",
       "    <tr>\n",
       "      <th>77</th>\n",
       "      <td>2021-06-30</td>\n",
       "      <td>28045.783792</td>\n",
       "      <td>26749.540879</td>\n",
       "      <td>29913.228170</td>\n",
       "      <td>28045.783792</td>\n",
       "      <td>28045.783792</td>\n",
       "      <td>278.768633</td>\n",
       "      <td>278.768633</td>\n",
       "      <td>278.768633</td>\n",
       "      <td>278.768633</td>\n",
       "      <td>278.768633</td>\n",
       "      <td>278.768633</td>\n",
       "      <td>0.0</td>\n",
       "      <td>0.0</td>\n",
       "      <td>0.0</td>\n",
       "      <td>28324.552424</td>\n",
       "    </tr>\n",
       "    <tr>\n",
       "      <th>78</th>\n",
       "      <td>2021-07-31</td>\n",
       "      <td>28604.961662</td>\n",
       "      <td>26714.139778</td>\n",
       "      <td>30036.168615</td>\n",
       "      <td>28604.961662</td>\n",
       "      <td>28604.961662</td>\n",
       "      <td>-209.127116</td>\n",
       "      <td>-209.127116</td>\n",
       "      <td>-209.127116</td>\n",
       "      <td>-209.127116</td>\n",
       "      <td>-209.127116</td>\n",
       "      <td>-209.127116</td>\n",
       "      <td>0.0</td>\n",
       "      <td>0.0</td>\n",
       "      <td>0.0</td>\n",
       "      <td>28395.834546</td>\n",
       "    </tr>\n",
       "  </tbody>\n",
       "</table>\n",
       "<p>79 rows × 16 columns</p>\n",
       "</div>"
      ],
      "text/plain": [
       "           ds         trend    yhat_lower    yhat_upper   trend_lower  \\\n",
       "0  2015-01-31   1122.224444  -1546.842064   1683.382361   1122.224444   \n",
       "1  2015-02-28   1243.592149  -2599.697822    641.984267   1243.592149   \n",
       "2  2015-03-31   1377.963536  -1824.841592   1458.471814   1377.963536   \n",
       "3  2015-04-30   1508.000362   -550.997081   2793.077045   1508.000362   \n",
       "4  2015-05-31   1642.371749    552.412497   3680.078339   1642.371749   \n",
       "..        ...           ...           ...           ...           ...   \n",
       "74 2021-03-31  26404.326172  23628.808993  26993.598481  26404.326172   \n",
       "75 2021-04-30  26945.466047  24961.837859  28066.591759  26945.466047   \n",
       "76 2021-05-31  27504.643917  25776.320665  29074.284523  27504.643917   \n",
       "77 2021-06-30  28045.783792  26749.540879  29913.228170  28045.783792   \n",
       "78 2021-07-31  28604.961662  26714.139778  30036.168615  28604.961662   \n",
       "\n",
       "     trend_upper  additive_terms  additive_terms_lower  additive_terms_upper  \\\n",
       "0    1122.224444    -1104.454633          -1104.454633          -1104.454633   \n",
       "1    1243.592149    -2255.376048          -2255.376048          -2255.376048   \n",
       "2    1377.963536    -1598.935162          -1598.935162          -1598.935162   \n",
       "3    1508.000362     -412.745633           -412.745633           -412.745633   \n",
       "4    1642.371749      440.673026            440.673026            440.673026   \n",
       "..           ...             ...                   ...                   ...   \n",
       "74  26404.326172    -1013.973689          -1013.973689          -1013.973689   \n",
       "75  26945.466047     -415.211964           -415.211964           -415.211964   \n",
       "76  27504.643917      -60.867015            -60.867015            -60.867015   \n",
       "77  28045.783792      278.768633            278.768633            278.768633   \n",
       "78  28604.961662     -209.127116           -209.127116           -209.127116   \n",
       "\n",
       "         yearly  yearly_lower  yearly_upper  multiplicative_terms  \\\n",
       "0  -1104.454633  -1104.454633  -1104.454633                   0.0   \n",
       "1  -2255.376048  -2255.376048  -2255.376048                   0.0   \n",
       "2  -1598.935162  -1598.935162  -1598.935162                   0.0   \n",
       "3   -412.745633   -412.745633   -412.745633                   0.0   \n",
       "4    440.673026    440.673026    440.673026                   0.0   \n",
       "..          ...           ...           ...                   ...   \n",
       "74 -1013.973689  -1013.973689  -1013.973689                   0.0   \n",
       "75  -415.211964   -415.211964   -415.211964                   0.0   \n",
       "76   -60.867015    -60.867015    -60.867015                   0.0   \n",
       "77   278.768633    278.768633    278.768633                   0.0   \n",
       "78  -209.127116   -209.127116   -209.127116                   0.0   \n",
       "\n",
       "    multiplicative_terms_lower  multiplicative_terms_upper          yhat  \n",
       "0                          0.0                         0.0     17.769810  \n",
       "1                          0.0                         0.0  -1011.783900  \n",
       "2                          0.0                         0.0   -220.971627  \n",
       "3                          0.0                         0.0   1095.254729  \n",
       "4                          0.0                         0.0   2083.044776  \n",
       "..                         ...                         ...           ...  \n",
       "74                         0.0                         0.0  25390.352483  \n",
       "75                         0.0                         0.0  26530.254083  \n",
       "76                         0.0                         0.0  27443.776902  \n",
       "77                         0.0                         0.0  28324.552424  \n",
       "78                         0.0                         0.0  28395.834546  \n",
       "\n",
       "[79 rows x 16 columns]"
      ]
     },
     "execution_count": 35,
     "metadata": {},
     "output_type": "execute_result"
    }
   ],
   "source": [
    "forecast = model.predict(df)\n",
    "forecast"
   ]
  },
  {
   "cell_type": "code",
   "execution_count": 36,
   "metadata": {},
   "outputs": [
    {
     "data": {
      "text/html": [
       "<div>\n",
       "<style scoped>\n",
       "    .dataframe tbody tr th:only-of-type {\n",
       "        vertical-align: middle;\n",
       "    }\n",
       "\n",
       "    .dataframe tbody tr th {\n",
       "        vertical-align: top;\n",
       "    }\n",
       "\n",
       "    .dataframe thead th {\n",
       "        text-align: right;\n",
       "    }\n",
       "</style>\n",
       "<table border=\"1\" class=\"dataframe\">\n",
       "  <thead>\n",
       "    <tr style=\"text-align: right;\">\n",
       "      <th></th>\n",
       "      <th>ds</th>\n",
       "      <th>yhat</th>\n",
       "      <th>yhat_lower</th>\n",
       "      <th>yhat_upper</th>\n",
       "    </tr>\n",
       "  </thead>\n",
       "  <tbody>\n",
       "    <tr>\n",
       "      <th>0</th>\n",
       "      <td>2015-01-31</td>\n",
       "      <td>17.769810</td>\n",
       "      <td>-1546.842064</td>\n",
       "      <td>1683.382361</td>\n",
       "    </tr>\n",
       "    <tr>\n",
       "      <th>1</th>\n",
       "      <td>2015-02-28</td>\n",
       "      <td>-1011.783900</td>\n",
       "      <td>-2599.697822</td>\n",
       "      <td>641.984267</td>\n",
       "    </tr>\n",
       "    <tr>\n",
       "      <th>2</th>\n",
       "      <td>2015-03-31</td>\n",
       "      <td>-220.971627</td>\n",
       "      <td>-1824.841592</td>\n",
       "      <td>1458.471814</td>\n",
       "    </tr>\n",
       "    <tr>\n",
       "      <th>3</th>\n",
       "      <td>2015-04-30</td>\n",
       "      <td>1095.254729</td>\n",
       "      <td>-550.997081</td>\n",
       "      <td>2793.077045</td>\n",
       "    </tr>\n",
       "    <tr>\n",
       "      <th>4</th>\n",
       "      <td>2015-05-31</td>\n",
       "      <td>2083.044776</td>\n",
       "      <td>552.412497</td>\n",
       "      <td>3680.078339</td>\n",
       "    </tr>\n",
       "    <tr>\n",
       "      <th>...</th>\n",
       "      <td>...</td>\n",
       "      <td>...</td>\n",
       "      <td>...</td>\n",
       "      <td>...</td>\n",
       "    </tr>\n",
       "    <tr>\n",
       "      <th>74</th>\n",
       "      <td>2021-03-31</td>\n",
       "      <td>25390.352483</td>\n",
       "      <td>23628.808993</td>\n",
       "      <td>26993.598481</td>\n",
       "    </tr>\n",
       "    <tr>\n",
       "      <th>75</th>\n",
       "      <td>2021-04-30</td>\n",
       "      <td>26530.254083</td>\n",
       "      <td>24961.837859</td>\n",
       "      <td>28066.591759</td>\n",
       "    </tr>\n",
       "    <tr>\n",
       "      <th>76</th>\n",
       "      <td>2021-05-31</td>\n",
       "      <td>27443.776902</td>\n",
       "      <td>25776.320665</td>\n",
       "      <td>29074.284523</td>\n",
       "    </tr>\n",
       "    <tr>\n",
       "      <th>77</th>\n",
       "      <td>2021-06-30</td>\n",
       "      <td>28324.552424</td>\n",
       "      <td>26749.540879</td>\n",
       "      <td>29913.228170</td>\n",
       "    </tr>\n",
       "    <tr>\n",
       "      <th>78</th>\n",
       "      <td>2021-07-31</td>\n",
       "      <td>28395.834546</td>\n",
       "      <td>26714.139778</td>\n",
       "      <td>30036.168615</td>\n",
       "    </tr>\n",
       "  </tbody>\n",
       "</table>\n",
       "<p>79 rows × 4 columns</p>\n",
       "</div>"
      ],
      "text/plain": [
       "           ds          yhat    yhat_lower    yhat_upper\n",
       "0  2015-01-31     17.769810  -1546.842064   1683.382361\n",
       "1  2015-02-28  -1011.783900  -2599.697822    641.984267\n",
       "2  2015-03-31   -220.971627  -1824.841592   1458.471814\n",
       "3  2015-04-30   1095.254729   -550.997081   2793.077045\n",
       "4  2015-05-31   2083.044776    552.412497   3680.078339\n",
       "..        ...           ...           ...           ...\n",
       "74 2021-03-31  25390.352483  23628.808993  26993.598481\n",
       "75 2021-04-30  26530.254083  24961.837859  28066.591759\n",
       "76 2021-05-31  27443.776902  25776.320665  29074.284523\n",
       "77 2021-06-30  28324.552424  26749.540879  29913.228170\n",
       "78 2021-07-31  28395.834546  26714.139778  30036.168615\n",
       "\n",
       "[79 rows x 4 columns]"
      ]
     },
     "execution_count": 36,
     "metadata": {},
     "output_type": "execute_result"
    }
   ],
   "source": [
    "prediction = forecast[['ds', 'yhat', 'yhat_lower', 'yhat_upper']]\n",
    "prediction"
   ]
  },
  {
   "cell_type": "code",
   "execution_count": 53,
   "metadata": {},
   "outputs": [
    {
     "data": {
      "image/png": "[encoded data removed]",
      "text/plain": [
       "<Figure size 1440x720 with 1 Axes>"
      ]
     },
     "metadata": {
      "needs_background": "light"
     },
     "output_type": "display_data"
    }
   ],
   "source": [
    "plt.figure(figsize=(20,10))\n",
    "plt.title('Real vs. Prophet Prediction')\n",
    "\n",
    "fig1 = plt.plot(prediction['ds'], prediction['yhat'], '*-', color='orange')\n",
    "fig2 = plt.plot(df['ds'], df['y'], '*-', color='black')\n",
    "\n",
    "plt.show()"
   ]
  },
  {
   "cell_type": "code",
   "execution_count": 57,
   "metadata": {},
   "outputs": [
    {
     "name": "stdout",
     "output_type": "stream",
     "text": [
      "\n",
      "      EQM: 1591094.83\n",
      "      REQM: 1261.39\n",
      "      MAD: 891.15\n",
      "      MAPE: 17.12%\n",
      "      \n"
     ]
    }
   ],
   "source": [
    "mse = metrics.mean_squared_error(df['y'], prediction['yhat'])\n",
    "rmse = metrics.mean_squared_error(df['y'], prediction['yhat'], squared=False)\n",
    "mad = metrics.mean_absolute_error(df['y'], prediction['yhat'])\n",
    "mape = metrics.mean_absolute_percentage_error(df['y'], prediction['yhat'])\n",
    "\n",
    "print(f'''\n",
    "      EQM: {round(mse,2)}\n",
    "      REQM: {round(rmse,2)}\n",
    "      MAD: {round(mad,2)}\n",
    "      MAPE: {round(mape*100,2)}%\n",
    "      ''')"
   ]
  },
  {
   "cell_type": "markdown",
   "metadata": {},
   "source": [
    "# Prophet Tunning"
   ]
  },
  {
   "cell_type": "markdown",
   "metadata": {},
   "source": [
    "### Tunning"
   ]
  },
  {
   "cell_type": "code",
   "execution_count": 70,
   "metadata": {},
   "outputs": [],
   "source": [
    "params_grid = {\n",
    "    'seasonality_mode': ('multiplicative', 'additive'),\n",
    "    'change_prior_scale': [0.1, 0.2, 0.3, 0.4,0.5],\n",
    "    'n_changepoints': [100, 150, 200],\n",
    "    'year_sazonality': (True, False)\n",
    "}\n",
    "\n",
    "grid = ParameterGrid(params_grid)"
   ]
  },
  {
   "cell_type": "code",
   "execution_count": 77,
   "metadata": {},
   "outputs": [
    {
     "name": "stderr",
     "output_type": "stream",
     "text": [
      "15:21:08 - cmdstanpy - INFO - Chain [1] start processing\n",
      "15:21:10 - cmdstanpy - INFO - Chain [1] done processing\n",
      "15:21:10 - cmdstanpy - INFO - Chain [1] start processing\n"
     ]
    },
    {
     "name": "stdout",
     "output_type": "stream",
     "text": [
      "\n",
      "          MAPE: 9.55%\n",
      "          \n"
     ]
    },
    {
     "name": "stderr",
     "output_type": "stream",
     "text": [
      "15:21:11 - cmdstanpy - INFO - Chain [1] done processing\n",
      "15:21:12 - cmdstanpy - INFO - Chain [1] start processing\n"
     ]
    },
    {
     "name": "stdout",
     "output_type": "stream",
     "text": [
      "\n",
      "          MAPE: 11.98%\n",
      "          \n"
     ]
    },
    {
     "name": "stderr",
     "output_type": "stream",
     "text": [
      "15:21:14 - cmdstanpy - INFO - Chain [1] done processing\n",
      "15:21:15 - cmdstanpy - INFO - Chain [1] start processing\n"
     ]
    },
    {
     "name": "stdout",
     "output_type": "stream",
     "text": [
      "\n",
      "          MAPE: 16.4%\n",
      "          \n"
     ]
    },
    {
     "name": "stderr",
     "output_type": "stream",
     "text": [
      "15:21:16 - cmdstanpy - INFO - Chain [1] done processing\n",
      "15:21:17 - cmdstanpy - INFO - Chain [1] start processing\n"
     ]
    },
    {
     "name": "stdout",
     "output_type": "stream",
     "text": [
      "\n",
      "          MAPE: 11.98%\n",
      "          \n"
     ]
    },
    {
     "name": "stderr",
     "output_type": "stream",
     "text": [
      "15:21:18 - cmdstanpy - INFO - Chain [1] done processing\n",
      "15:21:19 - cmdstanpy - INFO - Chain [1] start processing\n"
     ]
    },
    {
     "name": "stdout",
     "output_type": "stream",
     "text": [
      "\n",
      "          MAPE: 9.55%\n",
      "          \n"
     ]
    },
    {
     "name": "stderr",
     "output_type": "stream",
     "text": [
      "15:21:20 - cmdstanpy - INFO - Chain [1] done processing\n",
      "15:21:21 - cmdstanpy - INFO - Chain [1] start processing\n"
     ]
    },
    {
     "name": "stdout",
     "output_type": "stream",
     "text": [
      "\n",
      "          MAPE: 11.98%\n",
      "          \n"
     ]
    },
    {
     "name": "stderr",
     "output_type": "stream",
     "text": [
      "15:21:23 - cmdstanpy - INFO - Chain [1] done processing\n",
      "15:21:24 - cmdstanpy - INFO - Chain [1] start processing\n"
     ]
    },
    {
     "name": "stdout",
     "output_type": "stream",
     "text": [
      "\n",
      "          MAPE: 16.4%\n",
      "          \n"
     ]
    },
    {
     "name": "stderr",
     "output_type": "stream",
     "text": [
      "15:21:25 - cmdstanpy - INFO - Chain [1] done processing\n",
      "15:21:25 - cmdstanpy - INFO - Chain [1] start processing\n"
     ]
    },
    {
     "name": "stdout",
     "output_type": "stream",
     "text": [
      "\n",
      "          MAPE: 11.98%\n",
      "          \n"
     ]
    },
    {
     "name": "stderr",
     "output_type": "stream",
     "text": [
      "15:21:27 - cmdstanpy - INFO - Chain [1] done processing\n",
      "15:21:28 - cmdstanpy - INFO - Chain [1] start processing\n"
     ]
    },
    {
     "name": "stdout",
     "output_type": "stream",
     "text": [
      "\n",
      "          MAPE: 9.55%\n",
      "          \n"
     ]
    },
    {
     "name": "stderr",
     "output_type": "stream",
     "text": [
      "15:21:29 - cmdstanpy - INFO - Chain [1] done processing\n",
      "15:21:30 - cmdstanpy - INFO - Chain [1] start processing\n"
     ]
    },
    {
     "name": "stdout",
     "output_type": "stream",
     "text": [
      "\n",
      "          MAPE: 11.98%\n",
      "          \n"
     ]
    },
    {
     "name": "stderr",
     "output_type": "stream",
     "text": [
      "15:21:31 - cmdstanpy - INFO - Chain [1] done processing\n",
      "15:21:32 - cmdstanpy - INFO - Chain [1] start processing\n"
     ]
    },
    {
     "name": "stdout",
     "output_type": "stream",
     "text": [
      "\n",
      "          MAPE: 16.4%\n",
      "          \n"
     ]
    },
    {
     "name": "stderr",
     "output_type": "stream",
     "text": [
      "15:21:33 - cmdstanpy - INFO - Chain [1] done processing\n",
      "15:21:34 - cmdstanpy - INFO - Chain [1] start processing\n"
     ]
    },
    {
     "name": "stdout",
     "output_type": "stream",
     "text": [
      "\n",
      "          MAPE: 11.98%\n",
      "          \n"
     ]
    },
    {
     "name": "stderr",
     "output_type": "stream",
     "text": [
      "15:21:37 - cmdstanpy - INFO - Chain [1] done processing\n",
      "15:21:38 - cmdstanpy - INFO - Chain [1] start processing\n"
     ]
    },
    {
     "name": "stdout",
     "output_type": "stream",
     "text": [
      "\n",
      "          MAPE: 7.67%\n",
      "          \n"
     ]
    },
    {
     "name": "stderr",
     "output_type": "stream",
     "text": [
      "15:21:39 - cmdstanpy - INFO - Chain [1] done processing\n",
      "15:21:40 - cmdstanpy - INFO - Chain [1] start processing\n"
     ]
    },
    {
     "name": "stdout",
     "output_type": "stream",
     "text": [
      "\n",
      "          MAPE: 11.63%\n",
      "          \n"
     ]
    },
    {
     "name": "stderr",
     "output_type": "stream",
     "text": [
      "15:21:41 - cmdstanpy - INFO - Chain [1] done processing\n",
      "15:21:42 - cmdstanpy - INFO - Chain [1] start processing\n"
     ]
    },
    {
     "name": "stdout",
     "output_type": "stream",
     "text": [
      "\n",
      "          MAPE: 12.97%\n",
      "          \n"
     ]
    },
    {
     "name": "stderr",
     "output_type": "stream",
     "text": [
      "15:21:43 - cmdstanpy - INFO - Chain [1] done processing\n",
      "15:21:44 - cmdstanpy - INFO - Chain [1] start processing\n"
     ]
    },
    {
     "name": "stdout",
     "output_type": "stream",
     "text": [
      "\n",
      "          MAPE: 11.63%\n",
      "          \n"
     ]
    },
    {
     "name": "stderr",
     "output_type": "stream",
     "text": [
      "15:21:46 - cmdstanpy - INFO - Chain [1] done processing\n",
      "15:21:47 - cmdstanpy - INFO - Chain [1] start processing\n"
     ]
    },
    {
     "name": "stdout",
     "output_type": "stream",
     "text": [
      "\n",
      "          MAPE: 7.67%\n",
      "          \n"
     ]
    },
    {
     "name": "stderr",
     "output_type": "stream",
     "text": [
      "15:21:48 - cmdstanpy - INFO - Chain [1] done processing\n",
      "15:21:49 - cmdstanpy - INFO - Chain [1] start processing\n"
     ]
    },
    {
     "name": "stdout",
     "output_type": "stream",
     "text": [
      "\n",
      "          MAPE: 11.63%\n",
      "          \n"
     ]
    },
    {
     "name": "stderr",
     "output_type": "stream",
     "text": [
      "15:21:51 - cmdstanpy - INFO - Chain [1] done processing\n",
      "15:21:51 - cmdstanpy - INFO - Chain [1] start processing\n"
     ]
    },
    {
     "name": "stdout",
     "output_type": "stream",
     "text": [
      "\n",
      "          MAPE: 12.97%\n",
      "          \n"
     ]
    },
    {
     "name": "stderr",
     "output_type": "stream",
     "text": [
      "15:21:52 - cmdstanpy - INFO - Chain [1] done processing\n",
      "15:21:53 - cmdstanpy - INFO - Chain [1] start processing\n"
     ]
    },
    {
     "name": "stdout",
     "output_type": "stream",
     "text": [
      "\n",
      "          MAPE: 11.63%\n",
      "          \n"
     ]
    },
    {
     "name": "stderr",
     "output_type": "stream",
     "text": [
      "15:21:56 - cmdstanpy - INFO - Chain [1] done processing\n",
      "15:21:57 - cmdstanpy - INFO - Chain [1] start processing\n"
     ]
    },
    {
     "name": "stdout",
     "output_type": "stream",
     "text": [
      "\n",
      "          MAPE: 7.67%\n",
      "          \n"
     ]
    },
    {
     "name": "stderr",
     "output_type": "stream",
     "text": [
      "15:21:58 - cmdstanpy - INFO - Chain [1] done processing\n",
      "15:21:59 - cmdstanpy - INFO - Chain [1] start processing\n"
     ]
    },
    {
     "name": "stdout",
     "output_type": "stream",
     "text": [
      "\n",
      "          MAPE: 11.63%\n",
      "          \n"
     ]
    },
    {
     "name": "stderr",
     "output_type": "stream",
     "text": [
      "15:22:00 - cmdstanpy - INFO - Chain [1] done processing\n",
      "15:22:01 - cmdstanpy - INFO - Chain [1] start processing\n"
     ]
    },
    {
     "name": "stdout",
     "output_type": "stream",
     "text": [
      "\n",
      "          MAPE: 12.97%\n",
      "          \n"
     ]
    },
    {
     "name": "stderr",
     "output_type": "stream",
     "text": [
      "15:22:02 - cmdstanpy - INFO - Chain [1] done processing\n",
      "15:22:03 - cmdstanpy - INFO - Chain [1] start processing\n"
     ]
    },
    {
     "name": "stdout",
     "output_type": "stream",
     "text": [
      "\n",
      "          MAPE: 11.63%\n",
      "          \n"
     ]
    },
    {
     "name": "stderr",
     "output_type": "stream",
     "text": [
      "15:22:05 - cmdstanpy - INFO - Chain [1] done processing\n",
      "15:22:06 - cmdstanpy - INFO - Chain [1] start processing\n"
     ]
    },
    {
     "name": "stdout",
     "output_type": "stream",
     "text": [
      "\n",
      "          MAPE: 6.31%\n",
      "          \n"
     ]
    },
    {
     "name": "stderr",
     "output_type": "stream",
     "text": [
      "15:22:08 - cmdstanpy - INFO - Chain [1] done processing\n",
      "15:22:09 - cmdstanpy - INFO - Chain [1] start processing\n"
     ]
    },
    {
     "name": "stdout",
     "output_type": "stream",
     "text": [
      "\n",
      "          MAPE: 11.36%\n",
      "          \n"
     ]
    },
    {
     "name": "stderr",
     "output_type": "stream",
     "text": [
      "15:22:11 - cmdstanpy - INFO - Chain [1] done processing\n",
      "15:22:12 - cmdstanpy - INFO - Chain [1] start processing\n"
     ]
    },
    {
     "name": "stdout",
     "output_type": "stream",
     "text": [
      "\n",
      "          MAPE: 12.24%\n",
      "          \n"
     ]
    },
    {
     "name": "stderr",
     "output_type": "stream",
     "text": [
      "15:22:13 - cmdstanpy - INFO - Chain [1] done processing\n",
      "15:22:14 - cmdstanpy - INFO - Chain [1] start processing\n"
     ]
    },
    {
     "name": "stdout",
     "output_type": "stream",
     "text": [
      "\n",
      "          MAPE: 11.36%\n",
      "          \n"
     ]
    },
    {
     "name": "stderr",
     "output_type": "stream",
     "text": [
      "15:22:17 - cmdstanpy - INFO - Chain [1] done processing\n",
      "15:22:18 - cmdstanpy - INFO - Chain [1] start processing\n"
     ]
    },
    {
     "name": "stdout",
     "output_type": "stream",
     "text": [
      "\n",
      "          MAPE: 6.31%\n",
      "          \n"
     ]
    },
    {
     "name": "stderr",
     "output_type": "stream",
     "text": [
      "15:22:19 - cmdstanpy - INFO - Chain [1] done processing\n",
      "15:22:20 - cmdstanpy - INFO - Chain [1] start processing\n"
     ]
    },
    {
     "name": "stdout",
     "output_type": "stream",
     "text": [
      "\n",
      "          MAPE: 11.36%\n",
      "          \n"
     ]
    },
    {
     "name": "stderr",
     "output_type": "stream",
     "text": [
      "15:22:23 - cmdstanpy - INFO - Chain [1] done processing\n",
      "15:22:24 - cmdstanpy - INFO - Chain [1] start processing\n"
     ]
    },
    {
     "name": "stdout",
     "output_type": "stream",
     "text": [
      "\n",
      "          MAPE: 12.24%\n",
      "          \n"
     ]
    },
    {
     "name": "stderr",
     "output_type": "stream",
     "text": [
      "15:22:25 - cmdstanpy - INFO - Chain [1] done processing\n",
      "15:22:26 - cmdstanpy - INFO - Chain [1] start processing\n"
     ]
    },
    {
     "name": "stdout",
     "output_type": "stream",
     "text": [
      "\n",
      "          MAPE: 11.36%\n",
      "          \n"
     ]
    },
    {
     "name": "stderr",
     "output_type": "stream",
     "text": [
      "15:22:29 - cmdstanpy - INFO - Chain [1] done processing\n",
      "15:22:29 - cmdstanpy - INFO - Chain [1] start processing\n"
     ]
    },
    {
     "name": "stdout",
     "output_type": "stream",
     "text": [
      "\n",
      "          MAPE: 6.31%\n",
      "          \n"
     ]
    },
    {
     "name": "stderr",
     "output_type": "stream",
     "text": [
      "15:22:31 - cmdstanpy - INFO - Chain [1] done processing\n",
      "15:22:32 - cmdstanpy - INFO - Chain [1] start processing\n"
     ]
    },
    {
     "name": "stdout",
     "output_type": "stream",
     "text": [
      "\n",
      "          MAPE: 11.36%\n",
      "          \n"
     ]
    },
    {
     "name": "stderr",
     "output_type": "stream",
     "text": [
      "15:22:34 - cmdstanpy - INFO - Chain [1] done processing\n",
      "15:22:35 - cmdstanpy - INFO - Chain [1] start processing\n"
     ]
    },
    {
     "name": "stdout",
     "output_type": "stream",
     "text": [
      "\n",
      "          MAPE: 12.24%\n",
      "          \n"
     ]
    },
    {
     "name": "stderr",
     "output_type": "stream",
     "text": [
      "15:22:37 - cmdstanpy - INFO - Chain [1] done processing\n",
      "15:22:37 - cmdstanpy - INFO - Chain [1] start processing\n"
     ]
    },
    {
     "name": "stdout",
     "output_type": "stream",
     "text": [
      "\n",
      "          MAPE: 11.36%\n",
      "          \n"
     ]
    },
    {
     "name": "stderr",
     "output_type": "stream",
     "text": [
      "15:22:41 - cmdstanpy - INFO - Chain [1] done processing\n",
      "15:22:42 - cmdstanpy - INFO - Chain [1] start processing\n"
     ]
    },
    {
     "name": "stdout",
     "output_type": "stream",
     "text": [
      "\n",
      "          MAPE: 4.61%\n",
      "          \n"
     ]
    },
    {
     "name": "stderr",
     "output_type": "stream",
     "text": [
      "15:22:43 - cmdstanpy - INFO - Chain [1] done processing\n",
      "15:22:44 - cmdstanpy - INFO - Chain [1] start processing\n"
     ]
    },
    {
     "name": "stdout",
     "output_type": "stream",
     "text": [
      "\n",
      "          MAPE: 10.46%\n",
      "          \n"
     ]
    },
    {
     "name": "stderr",
     "output_type": "stream",
     "text": [
      "15:22:47 - cmdstanpy - INFO - Chain [1] done processing\n",
      "15:22:48 - cmdstanpy - INFO - Chain [1] start processing\n"
     ]
    },
    {
     "name": "stdout",
     "output_type": "stream",
     "text": [
      "\n",
      "          MAPE: 11.32%\n",
      "          \n"
     ]
    },
    {
     "name": "stderr",
     "output_type": "stream",
     "text": [
      "15:22:49 - cmdstanpy - INFO - Chain [1] done processing\n",
      "15:22:50 - cmdstanpy - INFO - Chain [1] start processing\n"
     ]
    },
    {
     "name": "stdout",
     "output_type": "stream",
     "text": [
      "\n",
      "          MAPE: 10.46%\n",
      "          \n"
     ]
    },
    {
     "name": "stderr",
     "output_type": "stream",
     "text": [
      "15:22:53 - cmdstanpy - INFO - Chain [1] done processing\n",
      "15:22:54 - cmdstanpy - INFO - Chain [1] start processing\n"
     ]
    },
    {
     "name": "stdout",
     "output_type": "stream",
     "text": [
      "\n",
      "          MAPE: 4.61%\n",
      "          \n"
     ]
    },
    {
     "name": "stderr",
     "output_type": "stream",
     "text": [
      "15:22:56 - cmdstanpy - INFO - Chain [1] done processing\n",
      "15:22:57 - cmdstanpy - INFO - Chain [1] start processing\n"
     ]
    },
    {
     "name": "stdout",
     "output_type": "stream",
     "text": [
      "\n",
      "          MAPE: 10.46%\n",
      "          \n"
     ]
    },
    {
     "name": "stderr",
     "output_type": "stream",
     "text": [
      "15:22:59 - cmdstanpy - INFO - Chain [1] done processing\n",
      "15:23:00 - cmdstanpy - INFO - Chain [1] start processing\n"
     ]
    },
    {
     "name": "stdout",
     "output_type": "stream",
     "text": [
      "\n",
      "          MAPE: 11.32%\n",
      "          \n"
     ]
    },
    {
     "name": "stderr",
     "output_type": "stream",
     "text": [
      "15:23:02 - cmdstanpy - INFO - Chain [1] done processing\n",
      "15:23:03 - cmdstanpy - INFO - Chain [1] start processing\n"
     ]
    },
    {
     "name": "stdout",
     "output_type": "stream",
     "text": [
      "\n",
      "          MAPE: 10.46%\n",
      "          \n"
     ]
    },
    {
     "name": "stderr",
     "output_type": "stream",
     "text": [
      "15:23:06 - cmdstanpy - INFO - Chain [1] done processing\n",
      "15:23:07 - cmdstanpy - INFO - Chain [1] start processing\n"
     ]
    },
    {
     "name": "stdout",
     "output_type": "stream",
     "text": [
      "\n",
      "          MAPE: 4.61%\n",
      "          \n"
     ]
    },
    {
     "name": "stderr",
     "output_type": "stream",
     "text": [
      "15:23:08 - cmdstanpy - INFO - Chain [1] done processing\n",
      "15:23:09 - cmdstanpy - INFO - Chain [1] start processing\n"
     ]
    },
    {
     "name": "stdout",
     "output_type": "stream",
     "text": [
      "\n",
      "          MAPE: 10.46%\n",
      "          \n"
     ]
    },
    {
     "name": "stderr",
     "output_type": "stream",
     "text": [
      "15:23:12 - cmdstanpy - INFO - Chain [1] done processing\n",
      "15:23:12 - cmdstanpy - INFO - Chain [1] start processing\n"
     ]
    },
    {
     "name": "stdout",
     "output_type": "stream",
     "text": [
      "\n",
      "          MAPE: 11.32%\n",
      "          \n"
     ]
    },
    {
     "name": "stderr",
     "output_type": "stream",
     "text": [
      "15:23:14 - cmdstanpy - INFO - Chain [1] done processing\n",
      "15:23:15 - cmdstanpy - INFO - Chain [1] start processing\n"
     ]
    },
    {
     "name": "stdout",
     "output_type": "stream",
     "text": [
      "\n",
      "          MAPE: 10.46%\n",
      "          \n"
     ]
    },
    {
     "name": "stderr",
     "output_type": "stream",
     "text": [
      "15:23:18 - cmdstanpy - INFO - Chain [1] done processing\n",
      "15:23:19 - cmdstanpy - INFO - Chain [1] start processing\n"
     ]
    },
    {
     "name": "stdout",
     "output_type": "stream",
     "text": [
      "\n",
      "          MAPE: 3.83%\n",
      "          \n"
     ]
    },
    {
     "name": "stderr",
     "output_type": "stream",
     "text": [
      "15:23:20 - cmdstanpy - INFO - Chain [1] done processing\n",
      "15:23:21 - cmdstanpy - INFO - Chain [1] start processing\n"
     ]
    },
    {
     "name": "stdout",
     "output_type": "stream",
     "text": [
      "\n",
      "          MAPE: 9.55%\n",
      "          \n"
     ]
    },
    {
     "name": "stderr",
     "output_type": "stream",
     "text": [
      "15:23:24 - cmdstanpy - INFO - Chain [1] done processing\n",
      "15:23:25 - cmdstanpy - INFO - Chain [1] start processing\n"
     ]
    },
    {
     "name": "stdout",
     "output_type": "stream",
     "text": [
      "\n",
      "          MAPE: 10.78%\n",
      "          \n"
     ]
    },
    {
     "name": "stderr",
     "output_type": "stream",
     "text": [
      "15:23:26 - cmdstanpy - INFO - Chain [1] done processing\n",
      "15:23:27 - cmdstanpy - INFO - Chain [1] start processing\n"
     ]
    },
    {
     "name": "stdout",
     "output_type": "stream",
     "text": [
      "\n",
      "          MAPE: 9.55%\n",
      "          \n"
     ]
    },
    {
     "name": "stderr",
     "output_type": "stream",
     "text": [
      "15:23:30 - cmdstanpy - INFO - Chain [1] done processing\n",
      "15:23:31 - cmdstanpy - INFO - Chain [1] start processing\n"
     ]
    },
    {
     "name": "stdout",
     "output_type": "stream",
     "text": [
      "\n",
      "          MAPE: 3.83%\n",
      "          \n"
     ]
    },
    {
     "name": "stderr",
     "output_type": "stream",
     "text": [
      "15:23:32 - cmdstanpy - INFO - Chain [1] done processing\n",
      "15:23:33 - cmdstanpy - INFO - Chain [1] start processing\n"
     ]
    },
    {
     "name": "stdout",
     "output_type": "stream",
     "text": [
      "\n",
      "          MAPE: 9.55%\n",
      "          \n"
     ]
    },
    {
     "name": "stderr",
     "output_type": "stream",
     "text": [
      "15:23:36 - cmdstanpy - INFO - Chain [1] done processing\n",
      "15:23:37 - cmdstanpy - INFO - Chain [1] start processing\n"
     ]
    },
    {
     "name": "stdout",
     "output_type": "stream",
     "text": [
      "\n",
      "          MAPE: 10.78%\n",
      "          \n"
     ]
    },
    {
     "name": "stderr",
     "output_type": "stream",
     "text": [
      "15:23:38 - cmdstanpy - INFO - Chain [1] done processing\n",
      "15:23:39 - cmdstanpy - INFO - Chain [1] start processing\n"
     ]
    },
    {
     "name": "stdout",
     "output_type": "stream",
     "text": [
      "\n",
      "          MAPE: 9.55%\n",
      "          \n"
     ]
    },
    {
     "name": "stderr",
     "output_type": "stream",
     "text": [
      "15:23:42 - cmdstanpy - INFO - Chain [1] done processing\n",
      "15:23:43 - cmdstanpy - INFO - Chain [1] start processing\n"
     ]
    },
    {
     "name": "stdout",
     "output_type": "stream",
     "text": [
      "\n",
      "          MAPE: 3.83%\n",
      "          \n"
     ]
    },
    {
     "name": "stderr",
     "output_type": "stream",
     "text": [
      "15:23:44 - cmdstanpy - INFO - Chain [1] done processing\n",
      "15:23:45 - cmdstanpy - INFO - Chain [1] start processing\n"
     ]
    },
    {
     "name": "stdout",
     "output_type": "stream",
     "text": [
      "\n",
      "          MAPE: 9.55%\n",
      "          \n"
     ]
    },
    {
     "name": "stderr",
     "output_type": "stream",
     "text": [
      "15:23:48 - cmdstanpy - INFO - Chain [1] done processing\n",
      "15:23:49 - cmdstanpy - INFO - Chain [1] start processing\n"
     ]
    },
    {
     "name": "stdout",
     "output_type": "stream",
     "text": [
      "\n",
      "          MAPE: 10.78%\n",
      "          \n"
     ]
    },
    {
     "name": "stderr",
     "output_type": "stream",
     "text": [
      "15:23:50 - cmdstanpy - INFO - Chain [1] done processing\n"
     ]
    },
    {
     "name": "stdout",
     "output_type": "stream",
     "text": [
      "\n",
      "          MAPE: 9.55%\n",
      "          \n"
     ]
    }
   ],
   "source": [
    "params = []\n",
    "\n",
    "for param in grid:\n",
    "    model = Prophet(\n",
    "        seasonality_mode=param['seasonality_mode'],\n",
    "        changepoint_prior_scale=param['change_prior_scale'],\n",
    "        n_changepoints=param['n_changepoints'],\n",
    "        yearly_seasonality=param['year_sazonality'],\n",
    "        daily_seasonality=False,\n",
    "        weekly_seasonality=False)\n",
    "    model.fit(df)\n",
    "    forecast = model.predict(df)\n",
    "    prediction = forecast[['ds', 'yhat', 'yhat_lower', 'yhat_upper']]\n",
    "    mape = metrics.mean_absolute_percentage_error(df['y'], prediction['yhat'])\n",
    "\n",
    "    print(f'''\n",
    "          MAPE: {round(mape*100,2)}%\n",
    "          ''')\n",
    "    \n",
    "    params.append({\n",
    "        'MAPE': round(mape*100,2),\n",
    "        'params': param\n",
    "    })"
   ]
  },
  {
   "cell_type": "code",
   "execution_count": 78,
   "metadata": {},
   "outputs": [
    {
     "data": {
      "text/html": [
       "<div>\n",
       "<style scoped>\n",
       "    .dataframe tbody tr th:only-of-type {\n",
       "        vertical-align: middle;\n",
       "    }\n",
       "\n",
       "    .dataframe tbody tr th {\n",
       "        vertical-align: top;\n",
       "    }\n",
       "\n",
       "    .dataframe thead th {\n",
       "        text-align: right;\n",
       "    }\n",
       "</style>\n",
       "<table border=\"1\" class=\"dataframe\">\n",
       "  <thead>\n",
       "    <tr style=\"text-align: right;\">\n",
       "      <th></th>\n",
       "      <th>MAPE</th>\n",
       "      <th>params</th>\n",
       "    </tr>\n",
       "  </thead>\n",
       "  <tbody>\n",
       "    <tr>\n",
       "      <th>48</th>\n",
       "      <td>3.83</td>\n",
       "      <td>{'change_prior_scale': 0.5, 'n_changepoints': ...</td>\n",
       "    </tr>\n",
       "    <tr>\n",
       "      <th>56</th>\n",
       "      <td>3.83</td>\n",
       "      <td>{'change_prior_scale': 0.5, 'n_changepoints': ...</td>\n",
       "    </tr>\n",
       "    <tr>\n",
       "      <th>52</th>\n",
       "      <td>3.83</td>\n",
       "      <td>{'change_prior_scale': 0.5, 'n_changepoints': ...</td>\n",
       "    </tr>\n",
       "    <tr>\n",
       "      <th>36</th>\n",
       "      <td>4.61</td>\n",
       "      <td>{'change_prior_scale': 0.4, 'n_changepoints': ...</td>\n",
       "    </tr>\n",
       "    <tr>\n",
       "      <th>40</th>\n",
       "      <td>4.61</td>\n",
       "      <td>{'change_prior_scale': 0.4, 'n_changepoints': ...</td>\n",
       "    </tr>\n",
       "    <tr>\n",
       "      <th>44</th>\n",
       "      <td>4.61</td>\n",
       "      <td>{'change_prior_scale': 0.4, 'n_changepoints': ...</td>\n",
       "    </tr>\n",
       "    <tr>\n",
       "      <th>24</th>\n",
       "      <td>6.31</td>\n",
       "      <td>{'change_prior_scale': 0.3, 'n_changepoints': ...</td>\n",
       "    </tr>\n",
       "    <tr>\n",
       "      <th>28</th>\n",
       "      <td>6.31</td>\n",
       "      <td>{'change_prior_scale': 0.3, 'n_changepoints': ...</td>\n",
       "    </tr>\n",
       "    <tr>\n",
       "      <th>32</th>\n",
       "      <td>6.31</td>\n",
       "      <td>{'change_prior_scale': 0.3, 'n_changepoints': ...</td>\n",
       "    </tr>\n",
       "    <tr>\n",
       "      <th>12</th>\n",
       "      <td>7.67</td>\n",
       "      <td>{'change_prior_scale': 0.2, 'n_changepoints': ...</td>\n",
       "    </tr>\n",
       "    <tr>\n",
       "      <th>20</th>\n",
       "      <td>7.67</td>\n",
       "      <td>{'change_prior_scale': 0.2, 'n_changepoints': ...</td>\n",
       "    </tr>\n",
       "    <tr>\n",
       "      <th>16</th>\n",
       "      <td>7.67</td>\n",
       "      <td>{'change_prior_scale': 0.2, 'n_changepoints': ...</td>\n",
       "    </tr>\n",
       "    <tr>\n",
       "      <th>49</th>\n",
       "      <td>9.55</td>\n",
       "      <td>{'change_prior_scale': 0.5, 'n_changepoints': ...</td>\n",
       "    </tr>\n",
       "    <tr>\n",
       "      <th>51</th>\n",
       "      <td>9.55</td>\n",
       "      <td>{'change_prior_scale': 0.5, 'n_changepoints': ...</td>\n",
       "    </tr>\n",
       "    <tr>\n",
       "      <th>53</th>\n",
       "      <td>9.55</td>\n",
       "      <td>{'change_prior_scale': 0.5, 'n_changepoints': ...</td>\n",
       "    </tr>\n",
       "    <tr>\n",
       "      <th>55</th>\n",
       "      <td>9.55</td>\n",
       "      <td>{'change_prior_scale': 0.5, 'n_changepoints': ...</td>\n",
       "    </tr>\n",
       "    <tr>\n",
       "      <th>57</th>\n",
       "      <td>9.55</td>\n",
       "      <td>{'change_prior_scale': 0.5, 'n_changepoints': ...</td>\n",
       "    </tr>\n",
       "    <tr>\n",
       "      <th>0</th>\n",
       "      <td>9.55</td>\n",
       "      <td>{'change_prior_scale': 0.1, 'n_changepoints': ...</td>\n",
       "    </tr>\n",
       "    <tr>\n",
       "      <th>59</th>\n",
       "      <td>9.55</td>\n",
       "      <td>{'change_prior_scale': 0.5, 'n_changepoints': ...</td>\n",
       "    </tr>\n",
       "    <tr>\n",
       "      <th>4</th>\n",
       "      <td>9.55</td>\n",
       "      <td>{'change_prior_scale': 0.1, 'n_changepoints': ...</td>\n",
       "    </tr>\n",
       "    <tr>\n",
       "      <th>8</th>\n",
       "      <td>9.55</td>\n",
       "      <td>{'change_prior_scale': 0.1, 'n_changepoints': ...</td>\n",
       "    </tr>\n",
       "    <tr>\n",
       "      <th>39</th>\n",
       "      <td>10.46</td>\n",
       "      <td>{'change_prior_scale': 0.4, 'n_changepoints': ...</td>\n",
       "    </tr>\n",
       "    <tr>\n",
       "      <th>47</th>\n",
       "      <td>10.46</td>\n",
       "      <td>{'change_prior_scale': 0.4, 'n_changepoints': ...</td>\n",
       "    </tr>\n",
       "    <tr>\n",
       "      <th>45</th>\n",
       "      <td>10.46</td>\n",
       "      <td>{'change_prior_scale': 0.4, 'n_changepoints': ...</td>\n",
       "    </tr>\n",
       "    <tr>\n",
       "      <th>43</th>\n",
       "      <td>10.46</td>\n",
       "      <td>{'change_prior_scale': 0.4, 'n_changepoints': ...</td>\n",
       "    </tr>\n",
       "    <tr>\n",
       "      <th>41</th>\n",
       "      <td>10.46</td>\n",
       "      <td>{'change_prior_scale': 0.4, 'n_changepoints': ...</td>\n",
       "    </tr>\n",
       "    <tr>\n",
       "      <th>37</th>\n",
       "      <td>10.46</td>\n",
       "      <td>{'change_prior_scale': 0.4, 'n_changepoints': ...</td>\n",
       "    </tr>\n",
       "    <tr>\n",
       "      <th>54</th>\n",
       "      <td>10.78</td>\n",
       "      <td>{'change_prior_scale': 0.5, 'n_changepoints': ...</td>\n",
       "    </tr>\n",
       "    <tr>\n",
       "      <th>50</th>\n",
       "      <td>10.78</td>\n",
       "      <td>{'change_prior_scale': 0.5, 'n_changepoints': ...</td>\n",
       "    </tr>\n",
       "    <tr>\n",
       "      <th>58</th>\n",
       "      <td>10.78</td>\n",
       "      <td>{'change_prior_scale': 0.5, 'n_changepoints': ...</td>\n",
       "    </tr>\n",
       "    <tr>\n",
       "      <th>46</th>\n",
       "      <td>11.32</td>\n",
       "      <td>{'change_prior_scale': 0.4, 'n_changepoints': ...</td>\n",
       "    </tr>\n",
       "    <tr>\n",
       "      <th>42</th>\n",
       "      <td>11.32</td>\n",
       "      <td>{'change_prior_scale': 0.4, 'n_changepoints': ...</td>\n",
       "    </tr>\n",
       "    <tr>\n",
       "      <th>38</th>\n",
       "      <td>11.32</td>\n",
       "      <td>{'change_prior_scale': 0.4, 'n_changepoints': ...</td>\n",
       "    </tr>\n",
       "    <tr>\n",
       "      <th>35</th>\n",
       "      <td>11.36</td>\n",
       "      <td>{'change_prior_scale': 0.3, 'n_changepoints': ...</td>\n",
       "    </tr>\n",
       "    <tr>\n",
       "      <th>29</th>\n",
       "      <td>11.36</td>\n",
       "      <td>{'change_prior_scale': 0.3, 'n_changepoints': ...</td>\n",
       "    </tr>\n",
       "    <tr>\n",
       "      <th>33</th>\n",
       "      <td>11.36</td>\n",
       "      <td>{'change_prior_scale': 0.3, 'n_changepoints': ...</td>\n",
       "    </tr>\n",
       "    <tr>\n",
       "      <th>31</th>\n",
       "      <td>11.36</td>\n",
       "      <td>{'change_prior_scale': 0.3, 'n_changepoints': ...</td>\n",
       "    </tr>\n",
       "    <tr>\n",
       "      <th>25</th>\n",
       "      <td>11.36</td>\n",
       "      <td>{'change_prior_scale': 0.3, 'n_changepoints': ...</td>\n",
       "    </tr>\n",
       "    <tr>\n",
       "      <th>27</th>\n",
       "      <td>11.36</td>\n",
       "      <td>{'change_prior_scale': 0.3, 'n_changepoints': ...</td>\n",
       "    </tr>\n",
       "    <tr>\n",
       "      <th>17</th>\n",
       "      <td>11.63</td>\n",
       "      <td>{'change_prior_scale': 0.2, 'n_changepoints': ...</td>\n",
       "    </tr>\n",
       "    <tr>\n",
       "      <th>21</th>\n",
       "      <td>11.63</td>\n",
       "      <td>{'change_prior_scale': 0.2, 'n_changepoints': ...</td>\n",
       "    </tr>\n",
       "    <tr>\n",
       "      <th>23</th>\n",
       "      <td>11.63</td>\n",
       "      <td>{'change_prior_scale': 0.2, 'n_changepoints': ...</td>\n",
       "    </tr>\n",
       "    <tr>\n",
       "      <th>15</th>\n",
       "      <td>11.63</td>\n",
       "      <td>{'change_prior_scale': 0.2, 'n_changepoints': ...</td>\n",
       "    </tr>\n",
       "    <tr>\n",
       "      <th>19</th>\n",
       "      <td>11.63</td>\n",
       "      <td>{'change_prior_scale': 0.2, 'n_changepoints': ...</td>\n",
       "    </tr>\n",
       "    <tr>\n",
       "      <th>13</th>\n",
       "      <td>11.63</td>\n",
       "      <td>{'change_prior_scale': 0.2, 'n_changepoints': ...</td>\n",
       "    </tr>\n",
       "    <tr>\n",
       "      <th>9</th>\n",
       "      <td>11.98</td>\n",
       "      <td>{'change_prior_scale': 0.1, 'n_changepoints': ...</td>\n",
       "    </tr>\n",
       "    <tr>\n",
       "      <th>1</th>\n",
       "      <td>11.98</td>\n",
       "      <td>{'change_prior_scale': 0.1, 'n_changepoints': ...</td>\n",
       "    </tr>\n",
       "    <tr>\n",
       "      <th>3</th>\n",
       "      <td>11.98</td>\n",
       "      <td>{'change_prior_scale': 0.1, 'n_changepoints': ...</td>\n",
       "    </tr>\n",
       "    <tr>\n",
       "      <th>11</th>\n",
       "      <td>11.98</td>\n",
       "      <td>{'change_prior_scale': 0.1, 'n_changepoints': ...</td>\n",
       "    </tr>\n",
       "    <tr>\n",
       "      <th>7</th>\n",
       "      <td>11.98</td>\n",
       "      <td>{'change_prior_scale': 0.1, 'n_changepoints': ...</td>\n",
       "    </tr>\n",
       "    <tr>\n",
       "      <th>5</th>\n",
       "      <td>11.98</td>\n",
       "      <td>{'change_prior_scale': 0.1, 'n_changepoints': ...</td>\n",
       "    </tr>\n",
       "    <tr>\n",
       "      <th>30</th>\n",
       "      <td>12.24</td>\n",
       "      <td>{'change_prior_scale': 0.3, 'n_changepoints': ...</td>\n",
       "    </tr>\n",
       "    <tr>\n",
       "      <th>34</th>\n",
       "      <td>12.24</td>\n",
       "      <td>{'change_prior_scale': 0.3, 'n_changepoints': ...</td>\n",
       "    </tr>\n",
       "    <tr>\n",
       "      <th>26</th>\n",
       "      <td>12.24</td>\n",
       "      <td>{'change_prior_scale': 0.3, 'n_changepoints': ...</td>\n",
       "    </tr>\n",
       "    <tr>\n",
       "      <th>22</th>\n",
       "      <td>12.97</td>\n",
       "      <td>{'change_prior_scale': 0.2, 'n_changepoints': ...</td>\n",
       "    </tr>\n",
       "    <tr>\n",
       "      <th>18</th>\n",
       "      <td>12.97</td>\n",
       "      <td>{'change_prior_scale': 0.2, 'n_changepoints': ...</td>\n",
       "    </tr>\n",
       "    <tr>\n",
       "      <th>14</th>\n",
       "      <td>12.97</td>\n",
       "      <td>{'change_prior_scale': 0.2, 'n_changepoints': ...</td>\n",
       "    </tr>\n",
       "    <tr>\n",
       "      <th>10</th>\n",
       "      <td>16.40</td>\n",
       "      <td>{'change_prior_scale': 0.1, 'n_changepoints': ...</td>\n",
       "    </tr>\n",
       "    <tr>\n",
       "      <th>2</th>\n",
       "      <td>16.40</td>\n",
       "      <td>{'change_prior_scale': 0.1, 'n_changepoints': ...</td>\n",
       "    </tr>\n",
       "    <tr>\n",
       "      <th>6</th>\n",
       "      <td>16.40</td>\n",
       "      <td>{'change_prior_scale': 0.1, 'n_changepoints': ...</td>\n",
       "    </tr>\n",
       "  </tbody>\n",
       "</table>\n",
       "</div>"
      ],
      "text/plain": [
       "     MAPE                                             params\n",
       "48   3.83  {'change_prior_scale': 0.5, 'n_changepoints': ...\n",
       "56   3.83  {'change_prior_scale': 0.5, 'n_changepoints': ...\n",
       "52   3.83  {'change_prior_scale': 0.5, 'n_changepoints': ...\n",
       "36   4.61  {'change_prior_scale': 0.4, 'n_changepoints': ...\n",
       "40   4.61  {'change_prior_scale': 0.4, 'n_changepoints': ...\n",
       "44   4.61  {'change_prior_scale': 0.4, 'n_changepoints': ...\n",
       "24   6.31  {'change_prior_scale': 0.3, 'n_changepoints': ...\n",
       "28   6.31  {'change_prior_scale': 0.3, 'n_changepoints': ...\n",
       "32   6.31  {'change_prior_scale': 0.3, 'n_changepoints': ...\n",
       "12   7.67  {'change_prior_scale': 0.2, 'n_changepoints': ...\n",
       "20   7.67  {'change_prior_scale': 0.2, 'n_changepoints': ...\n",
       "16   7.67  {'change_prior_scale': 0.2, 'n_changepoints': ...\n",
       "49   9.55  {'change_prior_scale': 0.5, 'n_changepoints': ...\n",
       "51   9.55  {'change_prior_scale': 0.5, 'n_changepoints': ...\n",
       "53   9.55  {'change_prior_scale': 0.5, 'n_changepoints': ...\n",
       "55   9.55  {'change_prior_scale': 0.5, 'n_changepoints': ...\n",
       "57   9.55  {'change_prior_scale': 0.5, 'n_changepoints': ...\n",
       "0    9.55  {'change_prior_scale': 0.1, 'n_changepoints': ...\n",
       "59   9.55  {'change_prior_scale': 0.5, 'n_changepoints': ...\n",
       "4    9.55  {'change_prior_scale': 0.1, 'n_changepoints': ...\n",
       "8    9.55  {'change_prior_scale': 0.1, 'n_changepoints': ...\n",
       "39  10.46  {'change_prior_scale': 0.4, 'n_changepoints': ...\n",
       "47  10.46  {'change_prior_scale': 0.4, 'n_changepoints': ...\n",
       "45  10.46  {'change_prior_scale': 0.4, 'n_changepoints': ...\n",
       "43  10.46  {'change_prior_scale': 0.4, 'n_changepoints': ...\n",
       "41  10.46  {'change_prior_scale': 0.4, 'n_changepoints': ...\n",
       "37  10.46  {'change_prior_scale': 0.4, 'n_changepoints': ...\n",
       "54  10.78  {'change_prior_scale': 0.5, 'n_changepoints': ...\n",
       "50  10.78  {'change_prior_scale': 0.5, 'n_changepoints': ...\n",
       "58  10.78  {'change_prior_scale': 0.5, 'n_changepoints': ...\n",
       "46  11.32  {'change_prior_scale': 0.4, 'n_changepoints': ...\n",
       "42  11.32  {'change_prior_scale': 0.4, 'n_changepoints': ...\n",
       "38  11.32  {'change_prior_scale': 0.4, 'n_changepoints': ...\n",
       "35  11.36  {'change_prior_scale': 0.3, 'n_changepoints': ...\n",
       "29  11.36  {'change_prior_scale': 0.3, 'n_changepoints': ...\n",
       "33  11.36  {'change_prior_scale': 0.3, 'n_changepoints': ...\n",
       "31  11.36  {'change_prior_scale': 0.3, 'n_changepoints': ...\n",
       "25  11.36  {'change_prior_scale': 0.3, 'n_changepoints': ...\n",
       "27  11.36  {'change_prior_scale': 0.3, 'n_changepoints': ...\n",
       "17  11.63  {'change_prior_scale': 0.2, 'n_changepoints': ...\n",
       "21  11.63  {'change_prior_scale': 0.2, 'n_changepoints': ...\n",
       "23  11.63  {'change_prior_scale': 0.2, 'n_changepoints': ...\n",
       "15  11.63  {'change_prior_scale': 0.2, 'n_changepoints': ...\n",
       "19  11.63  {'change_prior_scale': 0.2, 'n_changepoints': ...\n",
       "13  11.63  {'change_prior_scale': 0.2, 'n_changepoints': ...\n",
       "9   11.98  {'change_prior_scale': 0.1, 'n_changepoints': ...\n",
       "1   11.98  {'change_prior_scale': 0.1, 'n_changepoints': ...\n",
       "3   11.98  {'change_prior_scale': 0.1, 'n_changepoints': ...\n",
       "11  11.98  {'change_prior_scale': 0.1, 'n_changepoints': ...\n",
       "7   11.98  {'change_prior_scale': 0.1, 'n_changepoints': ...\n",
       "5   11.98  {'change_prior_scale': 0.1, 'n_changepoints': ...\n",
       "30  12.24  {'change_prior_scale': 0.3, 'n_changepoints': ...\n",
       "34  12.24  {'change_prior_scale': 0.3, 'n_changepoints': ...\n",
       "26  12.24  {'change_prior_scale': 0.3, 'n_changepoints': ...\n",
       "22  12.97  {'change_prior_scale': 0.2, 'n_changepoints': ...\n",
       "18  12.97  {'change_prior_scale': 0.2, 'n_changepoints': ...\n",
       "14  12.97  {'change_prior_scale': 0.2, 'n_changepoints': ...\n",
       "10  16.40  {'change_prior_scale': 0.1, 'n_changepoints': ...\n",
       "2   16.40  {'change_prior_scale': 0.1, 'n_changepoints': ...\n",
       "6   16.40  {'change_prior_scale': 0.1, 'n_changepoints': ..."
      ]
     },
     "execution_count": 78,
     "metadata": {},
     "output_type": "execute_result"
    }
   ],
   "source": [
    "params_df = pd.DataFrame(params)\n",
    "params_df.sort_values(by='MAPE', inplace=True)\n",
    "params_df"
   ]
  },
  {
   "cell_type": "code",
   "execution_count": 89,
   "metadata": {},
   "outputs": [
    {
     "data": {
      "text/plain": [
       "{'change_prior_scale': 0.5,\n",
       " 'n_changepoints': 100,\n",
       " 'seasonality_mode': 'multiplicative',\n",
       " 'year_sazonality': True}"
      ]
     },
     "execution_count": 89,
     "metadata": {},
     "output_type": "execute_result"
    }
   ],
   "source": [
    "best_params = params_df.iloc[0]['params']\n",
    "best_params"
   ]
  },
  {
   "cell_type": "markdown",
   "metadata": {},
   "source": [
    "### Best Model"
   ]
  },
  {
   "cell_type": "code",
   "execution_count": 90,
   "metadata": {},
   "outputs": [],
   "source": [
    "model = Prophet(\n",
    "    seasonality_mode=best_params['seasonality_mode'],\n",
    "    changepoint_prior_scale=best_params['change_prior_scale'],\n",
    "    n_changepoints=best_params['n_changepoints'],\n",
    "    yearly_seasonality=best_params['year_sazonality'],\n",
    "    daily_seasonality=False,\n",
    "    weekly_seasonality=False)"
   ]
  },
  {
   "cell_type": "code",
   "execution_count": 91,
   "metadata": {},
   "outputs": [
    {
     "name": "stderr",
     "output_type": "stream",
     "text": [
      "15:34:33 - cmdstanpy - INFO - Chain [1] start processing\n",
      "15:34:36 - cmdstanpy - INFO - Chain [1] done processing\n"
     ]
    }
   ],
   "source": [
    "model.fit(df)\n",
    "forecast = model.predict(df)\n",
    "prediction = forecast[['ds', 'yhat', 'yhat_lower', 'yhat_upper']]"
   ]
  },
  {
   "cell_type": "code",
   "execution_count": 97,
   "metadata": {},
   "outputs": [
    {
     "data": {
      "image/png": "[encoded data removed]",
      "text/plain": [
       "<Figure size 1440x720 with 1 Axes>"
      ]
     },
     "metadata": {
      "needs_background": "light"
     },
     "output_type": "display_data"
    }
   ],
   "source": [
    "plt.figure(figsize=(20,10))\n",
    "plt.title('Real vs. Prophet Prediction')\n",
    "\n",
    "fig1 = plt.plot(prediction['ds'], prediction['yhat'], '--', color='orange')\n",
    "fig2 = plt.plot(df['ds'], df['y'], '*-', color='black')\n",
    "\n",
    "plt.show()"
   ]
  },
  {
   "cell_type": "code",
   "execution_count": 93,
   "metadata": {},
   "outputs": [
    {
     "name": "stdout",
     "output_type": "stream",
     "text": [
      "\n",
      "      EQM: 148554.47\n",
      "      REQM: 385.43\n",
      "      MAD: 262.17\n",
      "      MAPE: 3.83%\n",
      "      \n"
     ]
    }
   ],
   "source": [
    "mse = metrics.mean_squared_error(df['y'], prediction['yhat'])\n",
    "rmse = metrics.mean_squared_error(df['y'], prediction['yhat'], squared=False)\n",
    "mad = metrics.mean_absolute_error(df['y'], prediction['yhat'])\n",
    "mape = metrics.mean_absolute_percentage_error(df['y'], prediction['yhat'])\n",
    "\n",
    "print(f'''\n",
    "      EQM: {round(mse,2)}\n",
    "      REQM: {round(rmse,2)}\n",
    "      MAD: {round(mad,2)}\n",
    "      MAPE: {round(mape*100,2)}%\n",
    "      ''')"
   ]
  }
 ],
 "metadata": {
  "kernelspec": {
   "display_name": "Python 3.9.12 ('base')",
   "language": "python",
   "name": "python3"
  },
  "language_info": {
   "codemirror_mode": {
    "name": "ipython",
    "version": 3
   },
   "file_extension": ".py",
   "mimetype": "text/x-python",
   "name": "python",
   "nbconvert_exporter": "python",
   "pygments_lexer": "ipython3",
   "version": "3.9.12"
  },
  "orig_nbformat": 4,
  "vscode": {
   "interpreter": {
    "hash": "21092cf6c725eea58795aaae078f12755daaaf957912a2c5aa09910e58ee6873"
   }
  }
 },
 "nbformat": 4,
 "nbformat_minor": 2
}
